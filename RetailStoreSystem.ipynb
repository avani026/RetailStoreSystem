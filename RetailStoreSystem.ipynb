{
  "nbformat": 4,
  "nbformat_minor": 0,
  "metadata": {
    "colab": {
      "provenance": []
    },
    "kernelspec": {
      "name": "python3",
      "display_name": "Python 3"
    },
    "language_info": {
      "name": "python"
    }
  },
  "cells": [
    {
      "cell_type": "code",
      "execution_count": 1,
      "metadata": {
        "colab": {
          "base_uri": "https://localhost:8080/"
        },
        "id": "71_MBOkBEF1r",
        "outputId": "32c3c273-744b-4fd9-c92c-bd555ff595ed"
      },
      "outputs": [
        {
          "output_type": "stream",
          "name": "stdout",
          "text": [
            "Recommended items for user 0:\n",
            "Item C\n"
          ]
        }
      ],
      "source": [
        "import pandas as pd\n",
        "from sklearn.metrics.pairwise import cosine_similarity\n",
        "from sklearn.preprocessing import LabelEncoder\n",
        "\n",
        "# Sample retail data (replace with your own retail data)\n",
        "data = {\n",
        "    'CustomerID': [1, 2, 3, 1, 2],\n",
        "    'ProductID': ['A', 'B', 'A', 'B', 'C'],\n",
        "    'PurchaseCount': [1, 1, 2, 1, 3]\n",
        "}\n",
        "\n",
        "df = pd.DataFrame(data)\n",
        "\n",
        "# Encode customer and product IDs\n",
        "encoder = LabelEncoder()\n",
        "df['CustomerID'] = encoder.fit_transform(df['CustomerID'])\n",
        "df['ProductID'] = encoder.fit_transform(df['ProductID'])\n",
        "\n",
        "# Create a user-item matrix\n",
        "user_item_matrix = df.pivot(index='CustomerID', columns='ProductID', values='PurchaseCount').fillna(0)\n",
        "\n",
        "# Calculate item-item similarity (cosine similarity)\n",
        "item_similarity = cosine_similarity(user_item_matrix.T)\n",
        "\n",
        "# Create a dataframe of item similarity scores\n",
        "item_similarity_df = pd.DataFrame(item_similarity, index=user_item_matrix.columns, columns=user_item_matrix.columns)\n",
        "\n",
        "# Function to recommend items to a user\n",
        "def recommend_items(user_id, num_recommendations=5):\n",
        "    user_purchase_history = user_item_matrix.iloc[user_id]\n",
        "    user_unpurchased_items = user_purchase_history[user_purchase_history == 0].index\n",
        "\n",
        "    # Calculate a weighted score for each unpurchased item\n",
        "    weighted_scores = item_similarity_df.loc[user_unpurchased_items].dot(user_purchase_history)\n",
        "\n",
        "    # Sort items by score in descending order\n",
        "    recommended_items = weighted_scores.sort_values(ascending=False)\n",
        "\n",
        "    # Get the top 'num_recommendations' items\n",
        "    top_recommendations = recommended_items.head(num_recommendations)\n",
        "\n",
        "    return top_recommendations.index\n",
        "\n",
        "# Example: Recommend 3 items to user 0\n",
        "user_id = 0\n",
        "recommended_items = recommend_items(user_id, num_recommendations=3)\n",
        "\n",
        "print(f\"Recommended items for user {user_id}:\")\n",
        "for item_id in recommended_items:\n",
        "    print(f\"Item {encoder.inverse_transform([item_id])[0]}\")\n"
      ]
    }
  ]
}